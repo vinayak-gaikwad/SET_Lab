{
 "cells": [
  {
   "cell_type": "code",
   "execution_count": 1,
   "id": "b702e907-ba7a-4f29-b682-4f9f632770ee",
   "metadata": {},
   "outputs": [],
   "source": [
    "import numpy as np\n",
    "import matplotlib.pyplot as plt\n",
    "import pandas as pd"
   ]
  },
  {
   "cell_type": "code",
   "execution_count": 2,
   "id": "bcefae70-6baf-470c-83c0-322c9d1a49bb",
   "metadata": {},
   "outputs": [],
   "source": [
    "df = pd.read_csv('Toyota.csv')"
   ]
  },
  {
   "cell_type": "code",
   "execution_count": 3,
   "id": "7bedf5b0-3d32-49de-80c8-c21ce6624703",
   "metadata": {},
   "outputs": [],
   "source": [
    "def impute_nan_most_frequent_category(DataFrame,ColName):\n",
    "    # .mode()[0] - gives first category name\n",
    "     most_frequent_category=DataFrame[ColName].mode()[0]\n",
    "    \n",
    "    # replace nan values with most occured category\n",
    "     DataFrame[ColName + \"_Imputed\"] = DataFrame[ColName]\n",
    "     DataFrame[ColName + \"_Imputed\"].fillna(most_frequent_category,inplace=True)"
   ]
  },
  {
   "cell_type": "code",
   "execution_count": 4,
   "id": "4c4120a4-d107-4e53-b7ce-94124206337c",
   "metadata": {},
   "outputs": [],
   "source": [
    "impute_nan_most_frequent_category(df, 'FuelType')"
   ]
  },
  {
   "cell_type": "code",
   "execution_count": 5,
   "id": "b75db571-dd28-45ee-a396-b745eda57698",
   "metadata": {},
   "outputs": [],
   "source": [
    "df['KM'].replace({\"??\":np.nan}, inplace=True)\n",
    "from sklearn.impute import SimpleImputer\n",
    "imputer = SimpleImputer(missing_values=np.nan, strategy='mean')\n",
    "imputer.fit(df.iloc[:, 1:4])\n",
    "df.iloc[:, 1:4] = imputer.transform(df.iloc[:, 1:4])\n"
   ]
  },
  {
   "cell_type": "code",
   "execution_count": 6,
   "id": "c5225a30-8273-4221-88d3-1d747975ef1c",
   "metadata": {},
   "outputs": [
    {
     "data": {
      "text/html": [
       "<div>\n",
       "<style scoped>\n",
       "    .dataframe tbody tr th:only-of-type {\n",
       "        vertical-align: middle;\n",
       "    }\n",
       "\n",
       "    .dataframe tbody tr th {\n",
       "        vertical-align: top;\n",
       "    }\n",
       "\n",
       "    .dataframe thead th {\n",
       "        text-align: right;\n",
       "    }\n",
       "</style>\n",
       "<table border=\"1\" class=\"dataframe\">\n",
       "  <thead>\n",
       "    <tr style=\"text-align: right;\">\n",
       "      <th></th>\n",
       "      <th>Unnamed: 0</th>\n",
       "      <th>Price</th>\n",
       "      <th>Age</th>\n",
       "      <th>KM</th>\n",
       "      <th>FuelType</th>\n",
       "      <th>HP</th>\n",
       "      <th>MetColor</th>\n",
       "      <th>Automatic</th>\n",
       "      <th>CC</th>\n",
       "      <th>Doors</th>\n",
       "      <th>Weight</th>\n",
       "      <th>FuelType_Imputed</th>\n",
       "    </tr>\n",
       "  </thead>\n",
       "  <tbody>\n",
       "    <tr>\n",
       "      <th>0</th>\n",
       "      <td>0</td>\n",
       "      <td>13500.0</td>\n",
       "      <td>23.0</td>\n",
       "      <td>46986.000000</td>\n",
       "      <td>Diesel</td>\n",
       "      <td>90</td>\n",
       "      <td>1.0</td>\n",
       "      <td>0</td>\n",
       "      <td>2000</td>\n",
       "      <td>three</td>\n",
       "      <td>1165</td>\n",
       "      <td>Diesel</td>\n",
       "    </tr>\n",
       "    <tr>\n",
       "      <th>1</th>\n",
       "      <td>1</td>\n",
       "      <td>13750.0</td>\n",
       "      <td>23.0</td>\n",
       "      <td>72937.000000</td>\n",
       "      <td>Diesel</td>\n",
       "      <td>90</td>\n",
       "      <td>1.0</td>\n",
       "      <td>0</td>\n",
       "      <td>2000</td>\n",
       "      <td>3</td>\n",
       "      <td>1165</td>\n",
       "      <td>Diesel</td>\n",
       "    </tr>\n",
       "    <tr>\n",
       "      <th>2</th>\n",
       "      <td>2</td>\n",
       "      <td>13950.0</td>\n",
       "      <td>24.0</td>\n",
       "      <td>41711.000000</td>\n",
       "      <td>Diesel</td>\n",
       "      <td>90</td>\n",
       "      <td>NaN</td>\n",
       "      <td>0</td>\n",
       "      <td>2000</td>\n",
       "      <td>3</td>\n",
       "      <td>1165</td>\n",
       "      <td>Diesel</td>\n",
       "    </tr>\n",
       "    <tr>\n",
       "      <th>3</th>\n",
       "      <td>3</td>\n",
       "      <td>14950.0</td>\n",
       "      <td>26.0</td>\n",
       "      <td>48000.000000</td>\n",
       "      <td>Diesel</td>\n",
       "      <td>90</td>\n",
       "      <td>0.0</td>\n",
       "      <td>0</td>\n",
       "      <td>2000</td>\n",
       "      <td>3</td>\n",
       "      <td>1165</td>\n",
       "      <td>Diesel</td>\n",
       "    </tr>\n",
       "    <tr>\n",
       "      <th>4</th>\n",
       "      <td>4</td>\n",
       "      <td>13750.0</td>\n",
       "      <td>30.0</td>\n",
       "      <td>38500.000000</td>\n",
       "      <td>Diesel</td>\n",
       "      <td>90</td>\n",
       "      <td>0.0</td>\n",
       "      <td>0</td>\n",
       "      <td>2000</td>\n",
       "      <td>3</td>\n",
       "      <td>1170</td>\n",
       "      <td>Diesel</td>\n",
       "    </tr>\n",
       "    <tr>\n",
       "      <th>5</th>\n",
       "      <td>5</td>\n",
       "      <td>12950.0</td>\n",
       "      <td>32.0</td>\n",
       "      <td>61000.000000</td>\n",
       "      <td>Diesel</td>\n",
       "      <td>90</td>\n",
       "      <td>0.0</td>\n",
       "      <td>0</td>\n",
       "      <td>2000</td>\n",
       "      <td>3</td>\n",
       "      <td>1170</td>\n",
       "      <td>Diesel</td>\n",
       "    </tr>\n",
       "    <tr>\n",
       "      <th>6</th>\n",
       "      <td>6</td>\n",
       "      <td>16900.0</td>\n",
       "      <td>27.0</td>\n",
       "      <td>68647.239972</td>\n",
       "      <td>Diesel</td>\n",
       "      <td>????</td>\n",
       "      <td>NaN</td>\n",
       "      <td>0</td>\n",
       "      <td>2000</td>\n",
       "      <td>3</td>\n",
       "      <td>1245</td>\n",
       "      <td>Diesel</td>\n",
       "    </tr>\n",
       "    <tr>\n",
       "      <th>7</th>\n",
       "      <td>7</td>\n",
       "      <td>18600.0</td>\n",
       "      <td>30.0</td>\n",
       "      <td>75889.000000</td>\n",
       "      <td>NaN</td>\n",
       "      <td>90</td>\n",
       "      <td>1.0</td>\n",
       "      <td>0</td>\n",
       "      <td>2000</td>\n",
       "      <td>3</td>\n",
       "      <td>1245</td>\n",
       "      <td>Petrol</td>\n",
       "    </tr>\n",
       "    <tr>\n",
       "      <th>8</th>\n",
       "      <td>8</td>\n",
       "      <td>21500.0</td>\n",
       "      <td>27.0</td>\n",
       "      <td>19700.000000</td>\n",
       "      <td>Petrol</td>\n",
       "      <td>192</td>\n",
       "      <td>0.0</td>\n",
       "      <td>0</td>\n",
       "      <td>1800</td>\n",
       "      <td>3</td>\n",
       "      <td>1185</td>\n",
       "      <td>Petrol</td>\n",
       "    </tr>\n",
       "    <tr>\n",
       "      <th>9</th>\n",
       "      <td>9</td>\n",
       "      <td>12950.0</td>\n",
       "      <td>23.0</td>\n",
       "      <td>71138.000000</td>\n",
       "      <td>Diesel</td>\n",
       "      <td>????</td>\n",
       "      <td>NaN</td>\n",
       "      <td>0</td>\n",
       "      <td>1900</td>\n",
       "      <td>3</td>\n",
       "      <td>1105</td>\n",
       "      <td>Diesel</td>\n",
       "    </tr>\n",
       "  </tbody>\n",
       "</table>\n",
       "</div>"
      ],
      "text/plain": [
       "   Unnamed: 0    Price   Age            KM FuelType    HP  MetColor  \\\n",
       "0           0  13500.0  23.0  46986.000000   Diesel    90       1.0   \n",
       "1           1  13750.0  23.0  72937.000000   Diesel    90       1.0   \n",
       "2           2  13950.0  24.0  41711.000000   Diesel    90       NaN   \n",
       "3           3  14950.0  26.0  48000.000000   Diesel    90       0.0   \n",
       "4           4  13750.0  30.0  38500.000000   Diesel    90       0.0   \n",
       "5           5  12950.0  32.0  61000.000000   Diesel    90       0.0   \n",
       "6           6  16900.0  27.0  68647.239972   Diesel  ????       NaN   \n",
       "7           7  18600.0  30.0  75889.000000      NaN    90       1.0   \n",
       "8           8  21500.0  27.0  19700.000000   Petrol   192       0.0   \n",
       "9           9  12950.0  23.0  71138.000000   Diesel  ????       NaN   \n",
       "\n",
       "   Automatic    CC  Doors  Weight FuelType_Imputed  \n",
       "0          0  2000  three    1165           Diesel  \n",
       "1          0  2000      3    1165           Diesel  \n",
       "2          0  2000      3    1165           Diesel  \n",
       "3          0  2000      3    1165           Diesel  \n",
       "4          0  2000      3    1170           Diesel  \n",
       "5          0  2000      3    1170           Diesel  \n",
       "6          0  2000      3    1245           Diesel  \n",
       "7          0  2000      3    1245           Petrol  \n",
       "8          0  1800      3    1185           Petrol  \n",
       "9          0  1900      3    1105           Diesel  "
      ]
     },
     "execution_count": 6,
     "metadata": {},
     "output_type": "execute_result"
    }
   ],
   "source": [
    "df.head(10)"
   ]
  },
  {
   "cell_type": "code",
   "execution_count": 7,
   "id": "b4b49fc5-c674-498e-a8c1-f7dc19179263",
   "metadata": {},
   "outputs": [
    {
     "data": {
      "text/plain": [
       "<AxesSubplot:xlabel='Price', ylabel='Age'>"
      ]
     },
     "execution_count": 7,
     "metadata": {},
     "output_type": "execute_result"
    },
    {
     "data": {
      "text/plain": [
       "<Figure size 2160x720 with 0 Axes>"
      ]
     },
     "metadata": {},
     "output_type": "display_data"
    },
    {
     "data": {
      "image/png": "[encoded data removed]",
      "text/plain": [
       "<Figure size 864x432 with 1 Axes>"
      ]
     },
     "metadata": {
      "needs_background": "light"
     },
     "output_type": "display_data"
    }
   ],
   "source": [
    "plt.figure(figsize=(30,10))\n",
    "df.plot.scatter(x=\"Price\", y=\"Age\", figsize=(12, 6))\n"
   ]
  },
  {
   "cell_type": "code",
   "execution_count": 8,
   "id": "63d60944-72e0-4243-b96e-b121d8b24f9f",
   "metadata": {},
   "outputs": [],
   "source": [
    "X = df[[\"KM\", \"CC\"]]"
   ]
  },
  {
   "cell_type": "code",
   "execution_count": 9,
   "id": "b353e980-e38d-44b3-8bd0-b7ae41b1510a",
   "metadata": {},
   "outputs": [
    {
     "data": {
      "text/plain": [
       "array([[<AxesSubplot:title={'center':'KM'}>,\n",
       "        <AxesSubplot:title={'center':'CC'}>]], dtype=object)"
      ]
     },
     "execution_count": 9,
     "metadata": {},
     "output_type": "execute_result"
    },
    {
     "data": {
      "image/png": "[encoded data removed]",
      "text/plain": [
       "<Figure size 864x432 with 2 Axes>"
      ]
     },
     "metadata": {
      "needs_background": "light"
     },
     "output_type": "display_data"
    }
   ],
   "source": [
    "X.hist(bins=10, figsize=(12,6))"
   ]
  },
  {
   "cell_type": "code",
   "execution_count": 11,
   "id": "1819c281-7c24-44fd-a2dc-61dc3e26cadc",
   "metadata": {},
   "outputs": [
    {
     "data": {
      "text/plain": [
       "<AxesSubplot:>"
      ]
     },
     "execution_count": 11,
     "metadata": {},
     "output_type": "execute_result"
    },
    {
     "data": {
      "image/png": "[encoded data removed]",
      "text/plain": [
       "<Figure size 864x432 with 1 Axes>"
      ]
     },
     "metadata": {
      "needs_background": "light"
     },
     "output_type": "display_data"
    }
   ],
   "source": [
    "df['FuelType_Imputed'].value_counts().plot(kind = 'bar', figsize=(12,6))"
   ]
  },
  {
   "cell_type": "code",
   "execution_count": null,
   "id": "c3e86518-95be-4fc9-a775-659abc535433",
   "metadata": {},
   "outputs": [],
   "source": []
  },
  {
   "cell_type": "code",
   "execution_count": null,
   "id": "3ab3bf3c-97be-419c-965f-f5ba85f2bd39",
   "metadata": {},
   "outputs": [],
   "source": []
  }
 ],
 "metadata": {
  "kernelspec": {
   "display_name": "Python 3 (ipykernel)",
   "language": "python",
   "name": "python3"
  },
  "language_info": {
   "codemirror_mode": {
    "name": "ipython",
    "version": 3
   },
   "file_extension": ".py",
   "mimetype": "text/x-python",
   "name": "python",
   "nbconvert_exporter": "python",
   "pygments_lexer": "ipython3",
   "version": "3.8.10"
  }
 },
 "nbformat": 4,
 "nbformat_minor": 5
}
